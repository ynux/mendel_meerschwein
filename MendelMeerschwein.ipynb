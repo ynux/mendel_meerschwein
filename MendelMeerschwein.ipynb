{
 "cells": [
  {
   "cell_type": "code",
   "execution_count": 238,
   "metadata": {
    "collapsed": false
   },
   "outputs": [],
   "source": [
    "import random\n",
    "\n",
    "class MeerSchwein:\n",
    "    def __init__(self, genotype, generation):\n",
    "        genotype_sorted = {}\n",
    "        for feature, genes in genotype.items():\n",
    "            genotype_sorted[feature] = ''.join(sorted(genes))\n",
    "        self.genotype = genotype_sorted\n",
    "        self.generation = generation\n",
    "    def print(self):\n",
    "        print(\"My generation is \" + str(self.generation) + \", and my genotype is \" + str(self.genotype))\n",
    "    def phaenotype(self):\n",
    "        # calculate phaenotype from genotype\n",
    "        genotype = self.genotype\n",
    "        phaeno_type = {}            \n",
    "        for feature, gene in genotype.items():\n",
    "            phaeno_type[feature] = sorted(gene)[0]\n",
    "        return phaeno_type\n",
    "            \n",
    "def mate(mama_meerschwein, papa_meerschwein):\n",
    "        # main function - generate n babys with random genotypes from parents\n",
    "        litter_size = random.randint(1,6)\n",
    "        litter = [None]*litter_size\n",
    "        for i in range(litter_size):\n",
    "            litter[i] = MeerSchwein({},None)\n",
    "            litter[i].generation = mama_meerschwein.generation + 1\n",
    "            for feature, genes in mama_meerschwein.genotype.items():\n",
    "                # we assume that mama and papa meerschwein features match\n",
    "                mama_random = mama_meerschwein.genotype[feature][random.randint(0,1)]\n",
    "                papa_random = papa_meerschwein.genotype[feature][random.randint(0,1)]\n",
    "                litter[i].genotype[feature] = ''.join(sorted([mama_random, papa_random]))\n",
    "        return litter\n",
    "\n",
    "\n",
    "\n",
    "\n",
    "\n"
   ]
  },
  {
   "cell_type": "code",
   "execution_count": 239,
   "metadata": {
    "collapsed": false
   },
   "outputs": [
    {
     "name": "stdout",
     "output_type": "stream",
     "text": [
      "<class '__main__.MeerSchwein'>\n",
      "My generation is 1, and my genotype is {'color': 'SS', 'hairstyle': 'gg'}\n",
      "{'color': 'S', 'hairstyle': 'g'}\n",
      "My generation is 1, and my genotype is {'color': 'ss', 'hairstyle': 'GG'}\n",
      "{'color': 's', 'hairstyle': 'G'}\n",
      "My generation is 2, and my genotype is {'color': 'Ss', 'hairstyle': 'Gg'}\n",
      "{'color': 'S', 'hairstyle': 'G'}\n",
      "2\n"
     ]
    },
    {
     "data": {
      "text/plain": [
       "'Ss'"
      ]
     },
     "execution_count": 239,
     "metadata": {},
     "output_type": "execute_result"
    }
   ],
   "source": [
    "Mucki = MeerSchwein({'color': 'SS', 'hairstyle': 'gg'},1)\n",
    "print(type(Mucki))\n",
    "Fluffi = MeerSchwein({'color': 'ss', 'hairstyle': 'GG'},1)\n",
    "Buffi = MeerSchwein({'color':'Ss', 'hairstyle': 'gG'},2)\n",
    "Mucki.print()\n",
    "print(Mucki.phaenotype())\n",
    "Fluffi.print()\n",
    "print(Fluffi.phaenotype())\n",
    "Buffi.print()\n",
    "print(Buffi.phaenotype())\n",
    "print(Buffi.generation)\n",
    "''.join([Buffi.genotype['color'][0], Fluffi.genotype['color'][0]])"
   ]
  },
  {
   "cell_type": "code",
   "execution_count": 240,
   "metadata": {
    "collapsed": false
   },
   "outputs": [
    {
     "name": "stdout",
     "output_type": "stream",
     "text": [
      "Der erste Wurf:\n",
      "5\n",
      "My generation is 2, and my genotype is {'color': 'Ss', 'hairstyle': 'Gg'}\n",
      "My generation is 2, and my genotype is {'color': 'Ss', 'hairstyle': 'Gg'}\n",
      "My generation is 2, and my genotype is {'color': 'Ss', 'hairstyle': 'Gg'}\n",
      "My generation is 2, and my genotype is {'color': 'Ss', 'hairstyle': 'Gg'}\n",
      "My generation is 2, and my genotype is {'color': 'Ss', 'hairstyle': 'Gg'}\n",
      "Filia\n",
      "My generation is 2, and my genotype is {'color': 'Ss', 'hairstyle': 'Gg'}\n",
      "Buffy\n",
      "My generation is 2, and my genotype is {'color': 'Ss', 'hairstyle': 'Gg'}\n",
      "Der zweite Wurf:\n",
      "My generation is 3, and my genotype is {'color': 'Ss', 'hairstyle': 'Gg'}\n",
      "My generation is 3, and my genotype is {'color': 'SS', 'hairstyle': 'gg'}\n",
      "My generation is 3, and my genotype is {'color': 'SS', 'hairstyle': 'Gg'}\n",
      "My generation is 3, and my genotype is {'color': 'ss', 'hairstyle': 'gg'}\n",
      "My generation is 3, and my genotype is {'color': 'SS', 'hairstyle': 'GG'}\n",
      "My generation is 3, and my genotype is {'color': 'Ss', 'hairstyle': 'GG'}\n"
     ]
    }
   ],
   "source": [
    "erster_wurf = []\n",
    "erster_wurf  =mate(Mucki,Fluffi)\n",
    "print(\"Der erste Wurf:\")\n",
    "print(len(erster_wurf))\n",
    "for baby in erster_wurf:\n",
    "    baby.print()\n",
    "    \n",
    "Filia=erster_wurf[0]\n",
    "print(\"Filia\")\n",
    "Filia.print()\n",
    "print(\"Buffy\")\n",
    "Buffi.print()\n",
    "print(\"Der zweite Wurf:\")\n",
    "zweiter_wurf = []\n",
    "zweiter_wurf=mate(Buffi,Filia)\n",
    "for baby in zweiter_wurf:\n",
    "    baby.print()"
   ]
  },
  {
   "cell_type": "code",
   "execution_count": 232,
   "metadata": {
    "collapsed": false
   },
   "outputs": [
    {
     "name": "stdout",
     "output_type": "stream",
     "text": [
      "S\n",
      "s\n",
      "Ss\n",
      "Ss\n",
      "4\n",
      "7\n"
     ]
    }
   ],
   "source": [
    "'Ss'.split()\n",
    "list('Ss')[0].isupper()\n",
    "for i in 'Ss':\n",
    "    print(i)\n",
    "print(''.join(sorted('Ss')))\n",
    "print(''.join(sorted('sS')))\n",
    "for i in [4,7]:\n",
    "    print(i)"
   ]
  },
  {
   "cell_type": "code",
   "execution_count": 247,
   "metadata": {
    "collapsed": false
   },
   "outputs": [],
   "source": [
    "import unittest\n",
    "class MeerSchweinTest(unittest.TestCase):\n",
    "    \n",
    "    def test_phaeno(self):\n",
    "        Schnuffi = MeerSchwein({'color':'Ss', 'hairstyle': 'gG'},2)\n",
    "        self.assertEqual(str(Schnuffi.phaenotype()),\"{'color': 'S', 'hairstyle': 'G'}\")\n",
    "        \n",
    "    def test_baby_meerschwein(self):\n",
    "        # ist das Baby auch ein Meerschwein?\n",
    "        Mama = MeerSchwein({'color':'Ss', 'hairstyle': 'gG'},2)\n",
    "        Papa = MeerSchwein({'color':'Ss', 'hairstyle': 'gG'},2)\n",
    "        Baby = mate(Mama,Papa)[0]\n",
    "        self.assertEqual(str(type(Baby)),\"<class '__main__.MeerSchwein'>\")\n",
    "    \n",
    "meer_test = MeerSchweinTest()\n",
    "meer_test.test_phaeno()\n",
    "meer_test.test_baby_meerschwein()"
   ]
  },
  {
   "cell_type": "code",
   "execution_count": 134,
   "metadata": {
    "collapsed": false
   },
   "outputs": [
    {
     "name": "stdout",
     "output_type": "stream",
     "text": [
      "1\n",
      "0\n",
      "0\n",
      "0\n",
      "0\n",
      "0\n",
      "1\n",
      "1\n",
      "1\n",
      "1\n"
     ]
    }
   ],
   "source": [
    "for i in range(10):\n",
    "    print(random.randint(0,1))"
   ]
  },
  {
   "cell_type": "code",
   "execution_count": null,
   "metadata": {
    "collapsed": true
   },
   "outputs": [],
   "source": []
  },
  {
   "cell_type": "code",
   "execution_count": null,
   "metadata": {
    "collapsed": true
   },
   "outputs": [],
   "source": []
  },
  {
   "cell_type": "code",
   "execution_count": null,
   "metadata": {
    "collapsed": true
   },
   "outputs": [],
   "source": []
  }
 ],
 "metadata": {
  "kernelspec": {
   "display_name": "Python 3",
   "language": "python",
   "name": "python3"
  },
  "language_info": {
   "codemirror_mode": {
    "name": "ipython",
    "version": 3
   },
   "file_extension": ".py",
   "mimetype": "text/x-python",
   "name": "python",
   "nbconvert_exporter": "python",
   "pygments_lexer": "ipython3",
   "version": "3.4.3"
  }
 },
 "nbformat": 4,
 "nbformat_minor": 0
}

